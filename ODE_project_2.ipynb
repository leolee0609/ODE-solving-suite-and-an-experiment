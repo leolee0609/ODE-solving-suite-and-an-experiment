{
 "cells": [
  {
   "cell_type": "markdown",
   "metadata": {},
   "source": [
    "# A3-Q3: Time of Death"
   ]
  },
  {
   "cell_type": "code",
   "execution_count": 1,
   "metadata": {},
   "outputs": [],
   "source": [
    "import numpy as np\n",
    "from scipy.integrate import solve_ivp\n",
    "import matplotlib.pyplot as plt\n",
    "from copy import deepcopy"
   ]
  },
  {
   "cell_type": "markdown",
   "metadata": {},
   "source": [
    "## (a) Dynamics Function"
   ]
  },
  {
   "cell_type": "code",
   "execution_count": 2,
   "metadata": {},
   "outputs": [],
   "source": [
    "# === YOUR CODE HERE ===\n",
    "def T_a(t):\n",
    "    '''\n",
    "    returns the temperature based on t\n",
    "    '''\n",
    "    if 0 <= t and t <= 7:\n",
    "        return 16\n",
    "    elif 7 < t and t <= 7.5:\n",
    "        return 16 + 12 * (t - 7)\n",
    "    elif 7.5 < t and t <= 19:\n",
    "        return 22\n",
    "    elif 19 < t and t <= 21:\n",
    "        return 79 - 3 * t\n",
    "    elif 21 < t and t <= 23.25:\n",
    "        return 16\n",
    "\n",
    "def dynamic(t, z):\n",
    "    '''\n",
    "    Returns dz/dt based on t and z\n",
    "    '''\n",
    "    dzdt = np.zeros_like(z)\n",
    "    \n",
    "    # get dz[0]/dt\n",
    "    if 29 <= z[2] and z[2] <= 45:\n",
    "        dzdt[0] = 0.0008 * ((z[2] - 29) ** 2) * (1 - np.e ** (0.08 * (z[2] - 45))) * z[0] * (30 - z[0])\n",
    "    else:\n",
    "        dzdt[0] = 0\n",
    "        \n",
    "    # get dz[1]/dt\n",
    "    if 17 <= z[2] and z[2] <= 32:\n",
    "        dzdt[1] = 0.001 * ((z[2] - 17) ** 2) * (1 - np.e ** (0.05 * (z[2] - 32))) * z[1] * (20 - z[1])\n",
    "    else:\n",
    "        dzdt[1] = 0\n",
    "        \n",
    "    # get dz[2]/dt\n",
    "    dzdt[2] = -0.1 * (z[2] - T_a(t)) + (z[0] + z[1]) / 100\n",
    "    \n",
    "    \n",
    "    return dzdt\n",
    "\n",
    "\n",
    "# get the initial state variable\n",
    "z_0 = np.array([1, 1, 37.5])\n",
    "\n",
    "\n"
   ]
  },
  {
   "cell_type": "markdown",
   "metadata": {},
   "source": [
    "## (b) Run the simulation"
   ]
  },
  {
   "cell_type": "code",
   "execution_count": 5,
   "metadata": {},
   "outputs": [],
   "source": [
    "# === YOUR CODE HERE ===\n",
    "def MyOde(f, tspan, y0, h, event=(lambda t,y:1)):\n",
    "    '''\n",
    "     t,y = MyOde(f, tspan, y0, h, event=[])\n",
    "    \n",
    "     Numerically solves the initial value problem\n",
    "    \n",
    "        dy(t)/dt = f(t,y)\n",
    "            y(0) = y0\n",
    "    \n",
    "     using the Modified Euler time-stepping method.\n",
    "    \n",
    "     Input\n",
    "       f       a Python dynamics function with calling sequence\n",
    "                  dydt = f(t, y)\n",
    "       tspan   2-tuple giving the start and end times, [start, end]\n",
    "       y0      initial state of the system (as a 1D vector)\n",
    "       h       the time step to use (this is not adaptive time stepping)\n",
    "       events  an event function with calling sequence\n",
    "                  val = events(t, y)\n",
    "               The computation stops as soon as a negative value is\n",
    "               returned by the event function.\n",
    "    \n",
    "     Output\n",
    "       t       1D vector holding time stamps\n",
    "       y       an array that holds one state vector per row (corresponding\n",
    "               to the time stamps)\n",
    "    \n",
    "       Notes:\n",
    "           - t and y have the same number of rows.\n",
    "    \n",
    "           - The first element of t should be tspan[0], and the first\n",
    "             row of y should be the initial state, y0.\n",
    "    \n",
    "           - If the computation was stopped by the triggering of an event,\n",
    "             then the last row of t and y should correspond to the\n",
    "             time that linear interpolation indicates for the zero-crossing\n",
    "             of the event-function.\n",
    "    '''\n",
    "\n",
    "    # Initialize output arrays, tlst and ylst\n",
    "    t = tspan[0]\n",
    "    y = deepcopy(y0)\n",
    "    \n",
    "    tlst = []\n",
    "    ylst = []\n",
    "    \n",
    "    tlst.append(t)                # append the first t-value\n",
    "    ylst.append(y)      # append the initial state\n",
    "    \n",
    "    # === YOUR CODE HERE ===\n",
    "    while t + h <= tspan[-1]:   # terminates when t + h is not in tspan\n",
    "        y_0 = ylst[-1]    # the last presently existed y\n",
    "        t_0 = tlst[-1]    # the last presently existed t\n",
    "        \n",
    "        # implement Euler's method first\n",
    "        y_e_1 = y_0 + h * f(t_0, y_0)\n",
    "        \n",
    "        # get the f at t and at the new point\n",
    "        f_0 = f(t_0, y_0)        # f value at t\n",
    "        f_1 = f(t + h, y_e_1)      # f value at the new t\n",
    "        new_f = (f_0 + f_1) / 2    # take the average of the f value at t and the new t\n",
    "        y_m_1 = y_0 + h * new_f    # finish this step of modified Euler's method\n",
    "    \n",
    "            \n",
    "        # check the event\n",
    "        this_evt = event(t + h, y_m_1)\n",
    "        if this_evt < 0:    # the event indicates the termination of the process\n",
    "            # get the linear interpolation function across the last 2 (event, t) coordinates\n",
    "            last_evt = event(tlst[-1], ylst[-1])\n",
    "            Event_itpl = interpolate.interp1d(x = [this_evt, last_evt], y = [t + h, tlst[-1]], kind = \"linear\")\n",
    "            app_t = Event_itpl(0)  # the approximated last t value\n",
    "        \n",
    "            # implement the last modified Euler's method using the approximated last t value       \n",
    "            y_0 = ylst[-1]\n",
    "            t_0 = tlst[-1]\n",
    "            h_alt = app_t - t_0\n",
    "            y_e_1 = y_0 + h_alt * f(t_0, y_0)\n",
    "            f_0 = f(t_0, y_0)\n",
    "            f_1 = f(app_t, y_e_1)\n",
    "            new_f = (f_0 + f_1) / 2\n",
    "            y_m_1 = y_0 + h_alt * new_f\n",
    "            tlst.append(app_t)\n",
    "            ylst.append(y_m_1)\n",
    "            \n",
    "            break\n",
    "        else:\n",
    "            tlst.append(t + h)\n",
    "            ylst.append(y_m_1)\n",
    "        \n",
    "        t += h    \n",
    "    \n",
    "    return np.array(tlst), np.array(ylst)\n",
    "\n",
    "\n",
    "# I think the person dies at 11:00am on June 12\n",
    "t, y = MyOde(dynamic, [11.00, 23.25], z_0, 0.1)"
   ]
  },
  {
   "cell_type": "code",
   "execution_count": 8,
   "metadata": {},
   "outputs": [
    {
     "data": {
      "text/plain": [
       "[<matplotlib.lines.Line2D at 0x2800ebb2c18>]"
      ]
     },
     "execution_count": 8,
     "metadata": {},
     "output_type": "execute_result"
    },
    {
     "data": {
      "image/png": "[encoded data removed]",
      "text/plain": [
       "<Figure size 432x288 with 1 Axes>"
      ]
     },
     "metadata": {
      "needs_background": "light"
     },
     "output_type": "display_data"
    }
   ],
   "source": [
    "# Plot temperature, and display final state\n",
    "# Temperature vs. time:\n",
    "plt.title(r'Temperature vs. Time');\n",
    "plt.xlabel('Time (h)')\n",
    "plt.ylabel('Body Temperature (◦C)');\n",
    "idx = 0\n",
    "Tem = []\n",
    "length_y = len(y)\n",
    "while idx < length_y:\n",
    "    Tem.append(y[idx][2])\n",
    "    idx += 1\n",
    "plt.plot(t, np.array(Tem))"
   ]
  },
  {
   "cell_type": "code",
   "execution_count": 9,
   "metadata": {
    "scrolled": true
   },
   "outputs": [
    {
     "data": {
      "text/plain": [
       "[<matplotlib.lines.Line2D at 0x2800ec194e0>]"
      ]
     },
     "execution_count": 9,
     "metadata": {},
     "output_type": "execute_result"
    },
    {
     "data": {
      "image/png": "[encoded data removed]",
      "text/plain": [
       "<Figure size 432x288 with 1 Axes>"
      ]
     },
     "metadata": {
      "needs_background": "light"
     },
     "output_type": "display_data"
    }
   ],
   "source": [
    "# Final state\n",
    "plt.title(r'A population vs. Time');\n",
    "plt.xlabel('Time (h)')\n",
    "plt.ylabel('Population (u/(mm^3)');\n",
    "idx = 0\n",
    "Tem = []\n",
    "length_y = len(y)\n",
    "while idx < length_y:\n",
    "    Tem.append(y[idx][0])\n",
    "    idx += 1\n",
    "plt.plot(t, np.array(Tem))"
   ]
  },
  {
   "cell_type": "code",
   "execution_count": 10,
   "metadata": {},
   "outputs": [
    {
     "data": {
      "text/plain": [
       "[<matplotlib.lines.Line2D at 0x2800ec78668>]"
      ]
     },
     "execution_count": 10,
     "metadata": {},
     "output_type": "execute_result"
    },
    {
     "data": {
      "image/png": "[encoded data removed]",
      "text/plain": [
       "<Figure size 432x288 with 1 Axes>"
      ]
     },
     "metadata": {
      "needs_background": "light"
     },
     "output_type": "display_data"
    }
   ],
   "source": [
    "# Final state\n",
    "plt.title(r'B population vs. Time');\n",
    "plt.xlabel('Time (h)')\n",
    "plt.ylabel('Population (u/(mm^3)');\n",
    "idx = 0\n",
    "Tem = []\n",
    "length_y = len(y)\n",
    "while idx < length_y:\n",
    "    Tem.append(y[idx][1])\n",
    "    idx += 1\n",
    "plt.plot(t, np.array(Tem))"
   ]
  },
  {
   "cell_type": "markdown",
   "metadata": {},
   "source": [
    "## (c) Prime Suspect"
   ]
  },
  {
   "cell_type": "code",
   "execution_count": 13,
   "metadata": {
    "scrolled": true
   },
   "outputs": [
    {
     "name": "stdout",
     "output_type": "stream",
     "text": [
      "[ 6.56026522  7.33463278 25.75573928]\n",
      "[ 6.44759425  3.64542162 26.95427957]\n",
      "[ 6.56128322 11.36972951 25.06728889]\n"
     ]
    }
   ],
   "source": [
    "# try all unconfirmed duration of each suspect and fidn if the unconfirmed duration is coincide with the murder\n",
    "DRU = 11.5\n",
    "t, y = MyOde(dynamic, [DRU, 23.25], z_0, 0.1)\n",
    "print(y[-1])\n",
    "\n",
    "SBU = 14.0\n",
    "t, y = MyOde(dynamic, [SBU, 23.25], z_0, 0.1)\n",
    "print(y[-1])\n",
    "\n",
    "JCU = 9.5\n",
    "t, y = MyOde(dynamic, [JCU, 23.25], z_0, 0.1)\n",
    "print(y[-1])"
   ]
  },
  {
   "cell_type": "markdown",
   "metadata": {},
   "source": [
    "YOUR ANSWER HERE\\\n",
    "I think James Carver murdered the person during 9:00 and 10:30 on Jun 12 due to the computation result."
   ]
  },
  {
   "cell_type": "code",
   "execution_count": null,
   "metadata": {},
   "outputs": [],
   "source": []
  }
 ],
 "metadata": {
  "kernelspec": {
   "display_name": "Python 3",
   "language": "python",
   "name": "python3"
  },
  "language_info": {
   "codemirror_mode": {
    "name": "ipython",
    "version": 3
   },
   "file_extension": ".py",
   "mimetype": "text/x-python",
   "name": "python",
   "nbconvert_exporter": "python",
   "pygments_lexer": "ipython3",
   "version": "3.6.9"
  }
 },
 "nbformat": 4,
 "nbformat_minor": 4
}
