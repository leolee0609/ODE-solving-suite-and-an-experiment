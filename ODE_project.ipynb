{
 "cells": [
  {
   "cell_type": "markdown",
   "metadata": {},
   "source": [
    "# A3-Q2: Golf Driving Range"
   ]
  },
  {
   "cell_type": "code",
   "execution_count": 1,
   "metadata": {},
   "outputs": [],
   "source": [
    "import numpy as np\n",
    "from copy import deepcopy\n",
    "import matplotlib.pyplot as plt\n",
    "from scipy import interpolate"
   ]
  },
  {
   "cell_type": "code",
   "execution_count": 2,
   "metadata": {},
   "outputs": [],
   "source": [
    "# Supplied functions\n",
    "def Ground(d):\n",
    "    '''\n",
    "     h = Ground(d)\n",
    "     \n",
    "     Returns the height (in metres) of the ground at a horizontal distance\n",
    "     d (metres) from the origin.\n",
    "    '''\n",
    "    return 2.*(np.cos(d/4.)-np.sin(d/11.)-1)\n",
    "\n",
    "def GroundSlope(d):\n",
    "    '''\n",
    "     h = GroundSlope(d)\n",
    "     \n",
    "     Returns the slope of the ground at a horizontal distance\n",
    "     d (metres) from the origin.\n",
    "    '''\n",
    "    return 2.*(-1./4*np.sin(d/4) - 1./11*np.cos(d/11.))"
   ]
  },
  {
   "cell_type": "markdown",
   "metadata": {},
   "source": [
    "## (a) MyOde"
   ]
  },
  {
   "cell_type": "code",
   "execution_count": 3,
   "metadata": {},
   "outputs": [],
   "source": [
    "def MyOde(f, tspan, y0, h, event=(lambda t,y:1)):\n",
    "    '''\n",
    "     t,y = MyOde(f, tspan, y0, h, event=[])\n",
    "    \n",
    "     Numerically solves the initial value problem\n",
    "    \n",
    "        dy(t)/dt = f(t,y)\n",
    "            y(0) = y0\n",
    "    \n",
    "     using the Modified Euler time-stepping method.\n",
    "    \n",
    "     Input\n",
    "       f       a Python dynamics function with calling sequence\n",
    "                  dydt = f(t, y)\n",
    "       tspan   2-tuple giving the start and end times, [start, end]\n",
    "       y0      initial state of the system (as a 1D vector)\n",
    "       h       the time step to use (this is not adaptive time stepping)\n",
    "       events  an event function with calling sequence\n",
    "                  val = events(t, y)\n",
    "               The computation stops as soon as a negative value is\n",
    "               returned by the event function.\n",
    "    \n",
    "     Output\n",
    "       t       1D vector holding time stamps\n",
    "       y       an array that holds one state vector per row (corresponding\n",
    "               to the time stamps)\n",
    "    \n",
    "       Notes:\n",
    "           - t and y have the same number of rows.\n",
    "    \n",
    "           - The first element of t should be tspan[0], and the first\n",
    "             row of y should be the initial state, y0.\n",
    "    \n",
    "           - If the computation was stopped by the triggering of an event,\n",
    "             then the last row of t and y should correspond to the\n",
    "             time that linear interpolation indicates for the zero-crossing\n",
    "             of the event-function.\n",
    "    '''\n",
    "\n",
    "    # Initialize output arrays, tlst and ylst\n",
    "    t = tspan[0]\n",
    "    y = deepcopy(y0)\n",
    "    \n",
    "    tlst = []\n",
    "    ylst = []\n",
    "    \n",
    "    tlst.append(t)                # append the first t-value\n",
    "    ylst.append(y)      # append the initial state\n",
    "    \n",
    "    # === YOUR CODE HERE ===\n",
    "    while t + h <= tspan[-1]:   # terminates when t + h is not in tspan\n",
    "        y_0 = ylst[-1]    # the last presently existed y\n",
    "        t_0 = tlst[-1]    # the last presently existed t\n",
    "        \n",
    "        # implement Euler's method first\n",
    "        y_e_1 = y_0 + h * f(t_0, y_0)\n",
    "        \n",
    "        # get the f at t and at the new point\n",
    "        f_0 = f(t_0, y_0)        # f value at t\n",
    "        f_1 = f(t + h, y_e_1)      # f value at the new t\n",
    "        new_f = (f_0 + f_1) / 2    # take the average of the f value at t and the new t\n",
    "        y_m_1 = y_0 + h * new_f    # finish this step of modified Euler's method\n",
    "    \n",
    "            \n",
    "        # check the event\n",
    "        this_evt = event(t + h, y_m_1)\n",
    "        if this_evt < 0:    # the event indicates the termination of the process\n",
    "            # get the linear interpolation function across the last 2 (event, t) coordinates\n",
    "            last_evt = event(tlst[-1], ylst[-1])\n",
    "            Event_itpl = interpolate.interp1d(x = [this_evt, last_evt], y = [t + h, tlst[-1]], kind = \"linear\")\n",
    "            app_t = Event_itpl(0)  # the approximated last t value\n",
    "        \n",
    "            # implement the last modified Euler's method using the approximated last t value       \n",
    "            y_0 = ylst[-1]\n",
    "            t_0 = tlst[-1]\n",
    "            h_alt = app_t - t_0\n",
    "            y_e_1 = y_0 + h_alt * f(t_0, y_0)\n",
    "            f_0 = f(t_0, y_0)\n",
    "            f_1 = f(app_t, y_e_1)\n",
    "            new_f = (f_0 + f_1) / 2\n",
    "            y_m_1 = y_0 + h_alt * new_f\n",
    "            tlst.append(app_t)\n",
    "            ylst.append(y_m_1)\n",
    "            \n",
    "            break\n",
    "        else:\n",
    "            tlst.append(t + h)\n",
    "            ylst.append(y_m_1)\n",
    "        \n",
    "        t += h    \n",
    "    \n",
    "    return np.array(tlst), np.array(ylst)\n",
    "\n"
   ]
  },
  {
   "cell_type": "markdown",
   "metadata": {},
   "source": [
    "## (b) Dynamics Function: `projectile`"
   ]
  },
  {
   "cell_type": "code",
   "execution_count": 4,
   "metadata": {},
   "outputs": [],
   "source": [
    "def projectile(t, z):\n",
    "\n",
    "    dzdt = np.zeros_like(z)\n",
    "    \n",
    "    # === YOUR CODE HERE ===\n",
    "    dzdt[0] = z[2]\n",
    "    dzdt[1] = z[3]\n",
    "    dzdt[2] = -0.3 * z[2]\n",
    "    dzdt[3] = -9.81 - 0.3 * z[3]\n",
    "    return dzdt"
   ]
  },
  {
   "cell_type": "markdown",
   "metadata": {},
   "source": [
    "## (c) Events Function: `projectile_events`"
   ]
  },
  {
   "cell_type": "code",
   "execution_count": 5,
   "metadata": {},
   "outputs": [],
   "source": [
    "def projectile_events(t, z):\n",
    "    \n",
    "    val = 1\n",
    "    \n",
    "    # === YOUR CODE HERE ===\n",
    "    # get the horizontal distance of the ball from the origin\n",
    "    x = z[0]\n",
    "    g_height = Ground(x)    # get the height here\n",
    "    \n",
    "    \n",
    "    # get the vertical distance of the ball from y = 0\n",
    "    y = z[1]\n",
    "    val = y - g_height    # get the vertical distance of the ball from the ground    \n",
    "    \n",
    "    \n",
    "    return val"
   ]
  },
  {
   "cell_type": "markdown",
   "metadata": {},
   "source": [
    "## (d) Three flights"
   ]
  },
  {
   "cell_type": "code",
   "execution_count": 6,
   "metadata": {
    "scrolled": false
   },
   "outputs": [],
   "source": [
    "theta = 50\n",
    "S = 58\n",
    "tspan = [0, 30]\n",
    "h = 0.05\n",
    "theta_rad = theta/180.*np.pi\n",
    "yStart = np.array([0, 0, S*np.cos(theta_rad), S*np.sin(theta_rad)])\n",
    "\n",
    "t,y = MyOde(projectile, tspan, yStart, h, projectile_events)"
   ]
  },
  {
   "cell_type": "code",
   "execution_count": 7,
   "metadata": {
    "scrolled": true
   },
   "outputs": [
    {
     "data": {
      "text/plain": [
       "[<matplotlib.lines.Line2D at 0x2358ddabba8>]"
      ]
     },
     "execution_count": 7,
     "metadata": {},
     "output_type": "execute_result"
    },
    {
     "data": {
      "image/png": "[encoded data removed]",
      "text/plain": [
       "<Figure size 720x288 with 1 Axes>"
      ]
     },
     "metadata": {
      "needs_background": "light"
     },
     "output_type": "display_data"
    }
   ],
   "source": [
    "# Plot the ground\n",
    "x = np.linspace(-10, 160, 300)\n",
    "hills = Ground(x)\n",
    "plt.figure(figsize=[10,4])\n",
    "plt.plot(x,hills, 'k')\n",
    "plt.axis('equal')\n",
    "\n",
    "plt.plot(y[:,0], y[:,1])  # Plot ball trajectory\n",
    "plt.plot([0],[0], 'ko')   # Plot initial ball position\n",
    "plt.plot(y[-1,0], y[-1,1], 'ko')  # Plot final ball position\n",
    "\n",
    "plt.title(r'$\\theta$ = '+str(theta)+'$^\\circ$');\n",
    "plt.xlabel('Distance (m)')\n",
    "plt.ylabel('Height (m)');\n",
    "\n",
    "k = GroundSlope(y[-1][0])\n",
    "u = np.array([np.sqrt(1 / (1 + k ** 2)), k * np.sqrt(1 / (1 + k ** 2))])  # get the vector u for the flight\n",
    "U = np.array([k * np.sqrt(1 / (k ** 2 + 1)), - np.sqrt(1 / (k ** 2 + 1))]) # get the vector U for the flight\n",
    "v = np.array([y[-1][2], y[-1][3]])    # get the velocity vector\n",
    "V = 0.85 * (sum(v * u) * u - sum(v * U) * U)    # get the new velocity vector\n",
    "ystart_new = np.array([0., 0., 0., 0.])  # initialize a new vector\n",
    "ystart_new[0] = y[-1][0]\n",
    "ystart_new[1] = y[-1][1]\n",
    "ystart_new[2] = V[0]\n",
    "ystart_new[3] = V[1]\n",
    "# calculate and plot the flight\n",
    "t_new,y_new = MyOde(projectile, [t[-1], 60], ystart_new, h, projectile_events)\n",
    "plt.plot(y_new[:,0], y_new[:,1])  # Plot ball trajectory\n",
    "plt.plot(y[-1][0],y[-1][1], 'ko')   # Plot initial ball position\n",
    "plt.plot(y_new[-1,0], y_new[-1,1], 'ko')  # Plot final ball position\n",
    "\n",
    "\n",
    "\n",
    "k1 = GroundSlope(y_new[-1][0])\n",
    "u1 = np.array([np.sqrt(1 / (1 + k1 ** 2)), k1 * np.sqrt(1 / (1 + k1 ** 2))])  # get the vector u for the flight\n",
    "U1 = np.array([k1 * np.sqrt(1 / (k1 ** 2 + 1)), - np.sqrt(1 / (k1 ** 2 + 1))]) # get the vector U for the flight\n",
    "v1 = np.array([y_new[-1][2], y_new[-1][3]])    # get the velocity vector\n",
    "V1 = 0.85 * (sum(v1 * u1) * u1 - sum(v1 * U1) * U1)    # get the new velocity vector\n",
    "ystart_new1 = np.array([0., 0., 0., 0.])  # initialize a new vector\n",
    "ystart_new1[0] = y_new[-1][0]\n",
    "ystart_new1[1] = y_new[-1][1]\n",
    "ystart_new1[2] = V1[0]\n",
    "ystart_new1[3] = V1[1]\n",
    "# calculate and plot the flight\n",
    "t_new1,y_new1 = MyOde(projectile, [t_new[-1], 90], ystart_new1, h, projectile_events)\n",
    "plt.plot(y_new1[:,0], y_new1[:,1])  # Plot ball trajectory\n",
    "plt.plot(y_new[-1][0],y_new[-1][1], 'ko')   # Plot initial ball position\n",
    "plt.plot(y_new1[-1,0], y_new1[-1,1], 'ko')  # Plot final ball position"
   ]
  },
  {
   "cell_type": "code",
   "execution_count": 8,
   "metadata": {
    "scrolled": true
   },
   "outputs": [
    {
     "name": "stdout",
     "output_type": "stream",
     "text": [
      "139.8696374600829\n"
     ]
    }
   ],
   "source": [
    "print(y_new1[-1][0])    # the ball end at x = 139.87m"
   ]
  },
  {
   "cell_type": "markdown",
   "metadata": {},
   "source": [
    "## (e) Rerun the code"
   ]
  },
  {
   "cell_type": "code",
   "execution_count": 9,
   "metadata": {},
   "outputs": [],
   "source": [
    "def rerun(theta, S, ini_tspan, h = 0.05, graph = False):\n",
    "    '''\n",
    "    Returns the x value where the ball ends, and plots the projectile of the ball based on:\n",
    "        theta: at which angle the ball is shot\n",
    "        S: the initial velocity of the ball\n",
    "        ini_tspan: the tspan for the first flight\n",
    "        h: step size. Default to be 0.05.\n",
    "        graph: show the graph if True\n",
    "    \n",
    "    effects: plots graph, outputs results\n",
    "    '''\n",
    "    theta_rad = theta/180.*np.pi\n",
    "    yStart = np.array([0, 0, S*np.cos(theta_rad), S*np.sin(theta_rad)])\n",
    "    \n",
    "    t,y = MyOde(projectile, tspan, yStart, h, projectile_events)\n",
    "    \n",
    "    if graph:\n",
    "        # Plot the ground\n",
    "        x = np.linspace(-10, 200, 300)\n",
    "        hills = Ground(x)\n",
    "        plt.figure(figsize=[10,4])\n",
    "        plt.plot(x,hills, 'k')\n",
    "        plt.axis('equal')\n",
    "\n",
    "        plt.plot(y[:,0], y[:,1])  # Plot ball trajectory\n",
    "        plt.plot([0],[0], 'ko')   # Plot initial ball position\n",
    "        plt.plot(y[-1,0], y[-1,1], 'ko')  # Plot final ball position\n",
    "\n",
    "        plt.title(r'$\\theta$ = '+str(theta)+'$^\\circ$');\n",
    "        plt.xlabel('Distance (m)')\n",
    "        plt.ylabel('Height (m)');\n",
    "\n",
    "    k = GroundSlope(y[-1][0])\n",
    "    u = np.array([np.sqrt(1 / (1 + k ** 2)), k * np.sqrt(1 / (1 + k ** 2))])  # get the vector u for the flight\n",
    "    U = np.array([k * np.sqrt(1 / (k ** 2 + 1)), - np.sqrt(1 / (k ** 2 + 1))]) # get the vector U for the flight\n",
    "    v = np.array([y[-1][2], y[-1][3]])    # get the velocity vector\n",
    "    V = 0.85 * (sum(v * u) * u - sum(v * U) * U)    # get the new velocity vector\n",
    "    ystart_new = np.array([0., 0., 0., 0.])  # initialize a new vector\n",
    "    ystart_new[0] = y[-1][0]\n",
    "    ystart_new[1] = y[-1][1]\n",
    "    ystart_new[2] = V[0]\n",
    "    ystart_new[3] = V[1]\n",
    "    # calculate and plot the flight\n",
    "    t_new,y_new = MyOde(projectile, [t[-1], 100], ystart_new, h, projectile_events)\n",
    "    if graph:\n",
    "        plt.plot(y_new[:,0], y_new[:,1])  # Plot ball trajectory\n",
    "        plt.plot(y[-1][0],y[-1][1], 'ko')   # Plot initial ball position\n",
    "        plt.plot(y_new[-1,0], y_new[-1,1], 'ko')  # Plot final ball position\n",
    "\n",
    "\n",
    "\n",
    "    k1 = GroundSlope(y_new[-1][0])\n",
    "    u1 = np.array([np.sqrt(1 / (1 + k1 ** 2)), k1 * np.sqrt(1 / (1 + k1 ** 2))])  # get the vector u for the flight\n",
    "    U1 = np.array([k1 * np.sqrt(1 / (k1 ** 2 + 1)), - np.sqrt(1 / (k1 ** 2 + 1))]) # get the vector U for the flight\n",
    "    v1 = np.array([y_new[-1][2], y_new[-1][3]])    # get the velocity vector\n",
    "    V1 = 0.85 * (sum(v1 * u1) * u1 - sum(v1 * U1) * U1)    # get the new velocity vector\n",
    "    ystart_new1 = np.array([0., 0., 0., 0.])  # initialize a new vector\n",
    "    ystart_new1[0] = y_new[-1][0]\n",
    "    ystart_new1[1] = y_new[-1][1]\n",
    "    ystart_new1[2] = V1[0]\n",
    "    ystart_new1[3] = V1[1]\n",
    "    # calculate and plot the flight\n",
    "    t_new1,y_new1 = MyOde(projectile, [t_new[-1], 200], ystart_new1, h, projectile_events)\n",
    "    if graph:\n",
    "        plt.plot(y_new1[:,0], y_new1[:,1])  # Plot ball trajectory\n",
    "        plt.plot(y_new[-1][0],y_new[-1][1], 'ko')   # Plot initial ball position\n",
    "        plt.plot(y_new1[-1,0], y_new1[-1,1], 'ko')  # Plot final ball position\n",
    "    \n",
    "    \n",
    "    return y_new1[-1][0]"
   ]
  },
  {
   "cell_type": "code",
   "execution_count": 10,
   "metadata": {
    "scrolled": true
   },
   "outputs": [
    {
     "name": "stdout",
     "output_type": "stream",
     "text": [
      "The angle that has the ball end (on its 3rd ground strike) the furthest horizontal distance from the golf tee is 32.385907035014604, and the distance is 164.1351253930776.\n"
     ]
    },
    {
     "data": {
      "text/plain": [
       "164.1351253930776"
      ]
     },
     "execution_count": 10,
     "metadata": {},
     "output_type": "execute_result"
    },
    {
     "data": {
      "image/png": "[encoded data removed]",
      "text/plain": [
       "<Figure size 720x288 with 1 Axes>"
      ]
     },
     "metadata": {
      "needs_background": "light"
     },
     "output_type": "display_data"
    }
   ],
   "source": [
    "# get the ground slope at x = 0\n",
    "k = GroundSlope(0)\n",
    "# try every angle between the ground angle at x = 0 and pi / 2\n",
    "theta = np.arctan(k) / np.pi * 180\n",
    "max_x = 0\n",
    "max_x_angle = theta\n",
    "while theta < 90:\n",
    "    this_x = rerun(theta, 58, [0, 60])\n",
    "    if this_x > max_x:\n",
    "        max_x = this_x\n",
    "        max_x_theta = theta\n",
    "    theta += np.pi / 180\n",
    "\n",
    "# show the projectile of the angle that has the ball end (on its 3rd ground strike) the furthest horizontal distance from the golf tee\n",
    "print(\"The angle that has the ball end (on its 3rd ground strike) the furthest horizontal distance from the golf tee is \"\\\n",
    "     + str(max_x_theta) + \", and the distance is \" + str(max_x) + \".\")\n",
    "rerun(max_x_theta, 58, [0, 60], graph = True)"
   ]
  },
  {
   "cell_type": "code",
   "execution_count": null,
   "metadata": {
    "scrolled": true
   },
   "outputs": [],
   "source": []
  },
  {
   "cell_type": "code",
   "execution_count": null,
   "metadata": {},
   "outputs": [],
   "source": []
  }
 ],
 "metadata": {
  "kernelspec": {
   "display_name": "Python 3",
   "language": "python",
   "name": "python3"
  },
  "language_info": {
   "codemirror_mode": {
    "name": "ipython",
    "version": 3
   },
   "file_extension": ".py",
   "mimetype": "text/x-python",
   "name": "python",
   "nbconvert_exporter": "python",
   "pygments_lexer": "ipython3",
   "version": "3.6.9"
  },
  "toc": {
   "nav_menu": {},
   "number_sections": true,
   "sideBar": true,
   "skip_h1_title": false,
   "title_cell": "Table of Contents",
   "title_sidebar": "Contents",
   "toc_cell": false,
   "toc_position": {},
   "toc_section_display": true,
   "toc_window_display": false
  }
 },
 "nbformat": 4,
 "nbformat_minor": 4
}
